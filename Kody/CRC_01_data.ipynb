{
 "cells": [
  {
   "cell_type": "markdown",
   "metadata": {},
   "source": [
    "# DANE FINANSOWE\n",
    "1) Notowania giełdowe  \n",
    "   1.1 Akcje  \n",
    "   1.2 Obligacje  \n",
    "   1.3 Instrumenty Pochodne  \n",
    "2) Dane o firmie  \n",
    "3) Dane Makro  \n",
    "\n"
   ]
  },
  {
   "cell_type": "markdown",
   "metadata": {},
   "source": [
    "## AKCJE/DANE O FIRMIE/DANE MAKRO"
   ]
  },
  {
   "cell_type": "code",
   "execution_count": null,
   "metadata": {},
   "outputs": [],
   "source": [
    "#Odpalenie aplikacji - Pamiętajcie że jeśli chcecie ruszyć z dalszą częścią kodu musicie zamknąć aplikacje. Możecie też uruchomić równolegle dwa jupitery w jednym będzie aplikacja a w drugim praca z kodem.\n",
    "#W pythonie są pewne biblioteki, które dają większe możliwości w pracy z kodem a także przyspieszają wiele czynności. # Musimy jednak najpierw je zainstawlować. Ta czynność jest jednorazowa \n",
    "!pip install data-search-engine # Jak już raz zainstalujecie tę bibliotekę to możecie usunąć tę linię\n",
    "from data_search_engine import run_app # Jednak żeby korzystać  z bibliotek musimy je jeszcze załadować do pliku. Ta czynność musi być powtarzana dla danego otwarcia pliku lub restartu. \n",
    "run_app()\n"
   ]
  },
  {
   "cell_type": "code",
   "execution_count": null,
   "metadata": {},
   "outputs": [],
   "source": [
    "#Pamiętaj o zamknięciu aplikacji data-search-engine!\n",
    "# Pobranie danych\n",
    "\n",
    "!pip install --upgrade yfinance # Jak raz zainstalujecie to możecie odrzucić tę linię\n",
    "\n",
    "#Yfinance daje nam dostęp do danych z serwisu yahoo finance\n",
    "import yfinance as yf #importujemy bibliotkę i nazywamy ją \"yf\" aby skrócić sobie drogę i nie pisać cały czas yfinance. Nazwa jest dowolna, ale zazwyczaj są pewne standardy aby potem wiedzieć jak załadowaliśmy bibliotekę.\n",
    "yf.download('MSFT') # Ten kod wyświetla dane, jednak jeśli nie przypiszemy go do jakiejś zmiennej to nie będziemy mogli z niej skorzystać.\n",
    "# Close to ceny zamknięcia High to najwyższa cena dnia, Low  najniższa, Open to cena otwarcia, Volume to wolumen transakcji czyli ile razy instrument, w tym przypadku jedna akcja przechodziła z rąk do rąk."
   ]
  },
  {
   "cell_type": "code",
   "execution_count": null,
   "metadata": {},
   "outputs": [],
   "source": [
    "# Teraz przypisujemy dane do zmiennej o nazwie \"msft\" i możemy dokonywać różnych operacji na niej. Zauważ że nie musimy definiować biblioteki jeszcze raz. Kiedy raz to zrobimy to będziemy mogli z niej korzystać cały czas w pliku.\n",
    "msft = yf.download('MSFT')\n",
    "msft"
   ]
  },
  {
   "cell_type": "code",
   "execution_count": null,
   "metadata": {},
   "outputs": [],
   "source": [
    "# Te dwie biblioteki są na tyle podstawowe że prawdopodobnie każdy z was ma już je u siebie. \n",
    "import pandas as pd # pandas służy do operacji na tabelach\n",
    "import numpy as np # numpy służy do obliczeń matematycznych i statystycznych"
   ]
  },
  {
   "cell_type": "code",
   "execution_count": null,
   "metadata": {},
   "outputs": [],
   "source": [
    "#Ściąganie zarówno polskich jak i zagranicznych spółek\n",
    "import yfinance as yf\n",
    "\n",
    "\n",
    "tickers = [\"AAPL\", \"MSFT\"] # Możemy też definiować tickery w listach dzięki czemu możemy za jednym razem ściągnąć więcej danych. #Tickery możecie poznać wpisując w google spółkę i \"yahoo finance\" wchodząc na strone i sprawdzając\n",
    "df = yf.download(tickers, period=\"1y\") #Tutaj ściąggamy dla ostatniego roku dane\n",
    "df"
   ]
  },
  {
   "cell_type": "code",
   "execution_count": null,
   "metadata": {},
   "outputs": [],
   "source": [
    "#Wyświetlanie interaktywnego wykresu świecowego\n",
    "!pip install plotly # Jak już raz użyjecie zainstalujecie możecie usunąć\n",
    "import plotly.graph_objects as go # Ta biblioteka pozwala na wyświetlani\n",
    "\n",
    "#Wybiernie tickera\n",
    "ticker = \"AAPL\"\n",
    "# Tworzenie wykresu świecowego dla AAPL\n",
    "fig = go.Figure(data=[go.Candlestick(\n",
    "    x=df.index,\n",
    "    open=df[\"Open\"][ticker],\n",
    "    high=df[\"High\"][ticker],\n",
    "    low=df[\"Low\"][ticker],\n",
    "    close=df[\"Close\"][ticker],\n",
    ")])\n",
    "\n",
    "fig.show()\n",
    "\n",
    "#Możecie sobie przybliżać go przybliżać i wyswietlac z niego dokładne ceny"
   ]
  },
  {
   "cell_type": "code",
   "execution_count": null,
   "metadata": {},
   "outputs": [],
   "source": [
    "#Wyswietlenie normalnych wykresów tylko dla cen zamknięcia\n",
    "import matplotlib.pyplot as plt #Matplotlib pozwala na wyswietlanie wykresow\n",
    "\n",
    "# Styl dark mode - ciemne tło\n",
    "plt.style.use('dark_background')\n",
    "\n",
    "# Wykres 1: Bez skalowania\n",
    "fig, ax = plt.subplots(figsize=(25, 8)) \n",
    "df.Close.plot(ax=ax, color=[\"r\", \"b\"])\n",
    "plt.show() #Wywołuje wyświetlenie wykresu\n",
    "\n",
    "# Wykres 2: Z dwiema osiami\n",
    "fig, ax1 = plt.subplots(figsize=(25,8))\n",
    "ax2 = ax1.twinx()\n",
    "df['Close']['AAPL'].plot(ax=ax1, color=\"r\", label=\"AAPL\")  #df['Close']['AAPL'] wywołuje z tabeli df kolumne \"Close\" i dane Apple. Reszta wykresu wymusza wyświetlenie go \n",
    "df['Close']['MSFT'].plot(ax=ax2, color=\"b\", label=\"MSFT\")\n",
    "\n",
    "plt.show()\n",
    "#Te wykresy nie są interaktywne, ale biblioteką plotly można je takimi uczynić"
   ]
  },
  {
   "cell_type": "code",
   "execution_count": null,
   "metadata": {},
   "outputs": [],
   "source": [
    "#!pip install seaborn \n",
    "import seaborn as sns\n",
    "\n",
    "plt.figure(figsize=(10,5))\n",
    "sns.histplot(df['Close']['MSFT'].pct_change(), color='darkred', bins=20, kde=True)\n",
    "plt.show()"
   ]
  },
  {
   "cell_type": "code",
   "execution_count": null,
   "metadata": {},
   "outputs": [],
   "source": [
    "# Jeśli chcemy pobrać dane dla większej ilości spółek to możemy to zautomatyzować i pobrać tickery ze stron np z wikipedii\n",
    "#Parsowanie tickerów ze stron np S&P 500 \n",
    "ticker_SPX = pd.read_html(\"https://en.wikipedia.org/wiki/List_of_S%26P_500_companies\")[0] # Korzystamy z pd.read_html jednak uważajcie to \"[0]\" pozwala nam wybrać tabelę którą chcemy zobaczyć. Jesli jest więcej tabel to musimy wybrac odpowiednią\n",
    "ticker_SPX = ticker_SPX['Symbol'].tolist() # Z kolumny \"Symbol\" wybieramy tickery i zapisujemy je do list ponieważ obecnie są w postaci kolumny co nie pozwoli nam ich pobrać\n",
    "ticker_SPX #Wywyołujemy i sprawdzamy czy działa"
   ]
  },
  {
   "cell_type": "code",
   "execution_count": null,
   "metadata": {},
   "outputs": [],
   "source": [
    "#Polski wig30:Tickery\n",
    "#Pamiętajcie że do polskich spółek musimy dodać .WA\n",
    "ticker_wig30 = (pd.read_html(\"https://www.biznesradar.pl/gielda/indeks:WIG30\")[0][\"Profil\"].str[:3]+\".WA\").to_list() \n",
    "ticker_wig30"
   ]
  },
  {
   "cell_type": "code",
   "execution_count": null,
   "metadata": {},
   "outputs": [],
   "source": [
    "data = yf.download(ticker_wig30, period=\"5Y\") # Pobieramy dane dla wszystkich spółek z indeksu wig30 za ostatnie 5 lat"
   ]
  },
  {
   "cell_type": "code",
   "execution_count": null,
   "metadata": {},
   "outputs": [],
   "source": [
    "#Dane zamkniecia dla wszystkich 30 spółek\n",
    "data['Close'].pct_change() # \"Close to dane zamknięcia\""
   ]
  },
  {
   "cell_type": "code",
   "execution_count": null,
   "metadata": {},
   "outputs": [],
   "source": [
    "#Zapisywanie danych do exceli\n",
    "data.Close.to_csv(\"Close.csv\")\n",
    "data.Open.to_excel(\"Open.xlsx\")\n",
    "\n",
    "#Zapisywanie dla kilku arkuszy\n",
    "with pd.ExcelWriter(\"Plik.xlsx\", engine=\"openpyxl\") as writer:\n",
    "    data.Close.to_excel(writer, sheet_name=\"Arkusz1\")\n",
    "    data.Open.to_excel(writer, sheet_name=\"Arkusz2\")"
   ]
  },
  {
   "cell_type": "code",
   "execution_count": null,
   "metadata": {},
   "outputs": [],
   "source": [
    "# Odczytywanie danych z exceli\n",
    "data_from_csv = pd.read_csv(\"Close.csv\")\n",
    "data_from_excel = pd.read_excel(\"Open.xlsx\")\n",
    "data_from_csv\n",
    "#data_from_excel # Ta linia jest zakomentowana przez co python jej nie odczyta. Możesz ją odkomentować ale i tak wyświetli się tylko ostatnia tabela.\n",
    "#pd.read_excel(\"Plik.xlsx\", sheet_name=1) #Możesz odkomentować też tę linię.Jak chciałbyś odczytać dane z jednego arkusza to możesz to zrobić tak 1 drugi arkusz, 0 pierwszy arkusz"
   ]
  },
  {
   "cell_type": "code",
   "execution_count": null,
   "metadata": {},
   "outputs": [],
   "source": [
    "#Parsowanie odległych historycznie danych ze stron. Ten kod niestety jest nie do wyjaśnienia tutaj. Możesz jednak skorzystać z czatu gpt żeby go dokładnie rozumieć. \n",
    "#Polega on na pobraniu danych ze strony biznesradar i przkeształceniu danych do specjalnego formatu, pozbywając się jednocześnie pewnych fraz\n",
    "ticker = \"PKO\"\n",
    "rzis = pd.read_html(f\"https://www.biznesradar.pl/raporty-finansowe-rachunek-zyskow-i-strat/{ticker}\")[1][1:].applymap(lambda x: str(x)[:str(x).find(\"r/r\")] if \"r/r\" in str(x) else x).applymap(lambda x: str(x).split(\"k/k\")[0] if \"k/k\" in str(x) else str(x))\n",
    "bilans = pd.read_html(f\"https://www.biznesradar.pl/raporty-finansowe-bilans/{ticker}\")[2][1:].applymap(lambda x: str(x)[:str(x).find(\"r/r\")] if \"r/r\" in str(x) else x).applymap(lambda x: str(x).split(\"k/k\")[0] if \"k/k\" in str(x) else str(x))\n",
    "cashflow = pd.read_html(f\"https://www.biznesradar.pl/raporty-finansowe-przeplywy-pieniezne/{ticker}\")[0][1:].applymap(lambda x: str(x)[:str(x).find(\"r/r\")] if \"r/r\" in str(x) else x).applymap(lambda x: str(x).split(\"k/k\")[0] if \"k/k\" in str(x) else str(x))"
   ]
  },
  {
   "cell_type": "code",
   "execution_count": null,
   "metadata": {},
   "outputs": [],
   "source": [
    "rzis #Wywołanie tabeli z rachunkiem zysków i strat. Wywoływanie jest super przydatne kiedy chcemy dokładnie przeanalizować co stało się w kodzie\n",
    "# Pamiętajcie że jeśli po wywołaniu będzie jakiś kod to python wam go nie wyświetli. Jesli chcecie wywołać go w środku to najlepiej użyć print\n",
    "#print(rzis) ale nie bedzie wyglądało już to tak ładnie jak po prostu wywołanei"
   ]
  },
  {
   "cell_type": "code",
   "execution_count": null,
   "metadata": {},
   "outputs": [],
   "source": [
    "# Wywołanie tabeli z cashflowami\n",
    "cashflow"
   ]
  },
  {
   "cell_type": "code",
   "execution_count": null,
   "metadata": {},
   "outputs": [],
   "source": [
    "#Wywołanie bilansu\n",
    "bilans"
   ]
  },
  {
   "cell_type": "code",
   "execution_count": null,
   "metadata": {},
   "outputs": [],
   "source": [
    "# W pythonie istotną role pełni obróbka danych. Bez niej czasami trudno transformować dane do wykresów itd. Dlatego często musimy je obrobić. Ten kod nam w tym pomaga.\n",
    "rzis.iloc[:,1:] = rzis.iloc[:,1:].replace(\" \", \"\", regex=True) \n",
    "bilans.iloc[:,1:] = bilans.iloc[:,1:].replace(\" \", \"\", regex=True)\n",
    "cashflow.iloc[:,1:] = cashflow.iloc[:,1:].replace(\" \", \"\", regex=True)"
   ]
  },
  {
   "cell_type": "code",
   "execution_count": null,
   "metadata": {},
   "outputs": [],
   "source": [
    "# Ten kod zamienia nam kolumny na daty dzięki czemu będziemy mogli sobie wyświeltać lepiej wykresy.\n",
    "rzis.columns = pd.to_datetime([col.split()[0] + \"-12-31\" if \"Q\" not in col else col.split(\"/\")[0] + \"-09-30\" for col in rzis.columns], errors=\"coerce\")\n",
    "bilans.columns = pd.to_datetime([col.split()[0] + \"-12-31\" if \"Q\" not in col else col.split(\"/\")[0] + \"-09-30\" for col in bilans.columns], errors=\"coerce\")\n",
    "cashflow.columns = pd.to_datetime([col.split()[0] + \"-12-31\" if \"Q\" not in col else col.split(\"/\")[0] + \"-09-30\" for col in cashflow.columns], errors=\"coerce\")"
   ]
  },
  {
   "cell_type": "code",
   "execution_count": null,
   "metadata": {},
   "outputs": [],
   "source": [
    "# Kolejna część transformacji. Tutaj poprawiamy kolumne indeksową (czyli pierwszą która jest istotną częścią tabeli zazwyczaj ta kolumna ma cyfry porządkowe, daty, lub konkretnie uporządkowane dane w naszym przypadku nazwy metryk)\n",
    "rzis.set_index(rzis.iloc[:, 0], inplace=True)\n",
    "rzis.drop(columns=[rzis.columns[0]], inplace=True)  \n",
    "\n",
    "bilans.set_index(bilans.iloc[:, 0], inplace=True)\n",
    "bilans.drop(columns=[bilans.columns[0]], inplace=True)  \n",
    "\n",
    "cashflow.set_index(cashflow.iloc[:, 0], inplace=True)\n",
    "cashflow.drop(columns=[rzis.columns[0]], inplace=True) "
   ]
  },
  {
   "cell_type": "code",
   "execution_count": null,
   "metadata": {},
   "outputs": [],
   "source": [
    "# Przekształcenie danych na format numeryczny dzięki czemu możemy wykonywać operacje matematyczne na danych oraz wyświetlać ich wartości\n",
    "rzis = rzis.apply(pd.to_numeric, errors=\"coerce\")\n",
    "bilans = bilans.apply(pd.to_numeric, errors=\"coerce\")\n",
    "cashflow = cashflow.apply(pd.to_numeric, errors=\"coerce\")\n",
    "#Możecie sobie ponownie wywołać aby zobaczyć co stało się z danymi"
   ]
  },
  {
   "cell_type": "code",
   "execution_count": null,
   "metadata": {},
   "outputs": [],
   "source": [
    "#wyświetlenie wykresu dla jednej z metryk w tym przypadku EBITDA (Earnings Before Interest Taxes Depreciation Amortization)\n",
    "import plotly.express as px\n",
    "px.bar(rzis.T.EBITDA, template=\"plotly_dark\", color_discrete_sequence=[\"darkred\"], height=1000)"
   ]
  },
  {
   "cell_type": "markdown",
   "metadata": {},
   "source": [
    "### Aby znaleźć dane finansowe dla spółek o uproszczonym bilansie: https://ekrs.ms.gov.pl/rdf/pd/search_df potrzebny KRS np: 0000374064 "
   ]
  },
  {
   "cell_type": "markdown",
   "metadata": {},
   "source": [
    "# Obligacje #Bez IB nie zadziałają opis ponizej"
   ]
  },
  {
   "cell_type": "code",
   "execution_count": null,
   "metadata": {},
   "outputs": [],
   "source": [
    "# Pobieranie danych które nie są akcjami do pythona jest bardzo trudne bo wymaga dostępów do różnych seriwsów. Dla polskich obligacji niestety nie znam takiego źródła. Niektóre domy maklerskie oferują dostęp do obligacji na ich stronach ale bez dostępów do api. \n",
    "# Poniżej znajdziecie kod pozwalający na zdobywanie informacji o obligacjach i ich wycenach do pythona przez interactive brokers, jest to konto do honadlu insturmentami ale my możemy założyć konto demo (paper account) aby pobierać dane za darmo.\n",
    "# Konto demo nie wymaga od nas żadnych wpłat i daje nam możliwośc testowania różnych strategii, a także co ważniejsze dostęp do danych.\n",
    "#Kroki są następujące:\n",
    "#1) Pobierzcie trader workstation - nie musicie mieć konta na IB zeby się zalogować. Otwórzcie TWS i wybierzcie paper trading i w miejscu login wpiszcie tylko swój email i będziecie się mogli zalogować\n",
    "#2) Wejdzcie w \"File\" w lewym górnym rogu\n",
    "#3) Wejdźcie w \"Global Configuration\"\n",
    "#4) \"API\" -> \"Settings\"\n",
    "#5) Zaznaczcie \"Enable AcriveX and Socket Clients\" i zaakceptujcie\n",
    "#6) Odznaczcie \"Read-Only Api\"\n",
    "#7) Ściągnijcie plik z gita o nazwie \"CRC_01_supporting_codes.py\" i dajcie go do tego samego folderu co kod, który odpalacie\n",
    "#8) Możecie przejść przez ten kod\n",
    "#Documentation https://ibkrcampus.com/campus/ibkr-api-page/\n",
    "#Gdy coś nie zadziała to spróbujcie zrestartować kernel w tym okienku co teraz macie otwart: Kernel -> Restart Kernel"
   ]
  },
  {
   "cell_type": "code",
   "execution_count": null,
   "metadata": {},
   "outputs": [],
   "source": [
    "!pip install asyncio\n",
    "!pip install numpy-financial\n",
    "!pip install ib_insync \n"
   ]
  },
  {
   "cell_type": "code",
   "execution_count": null,
   "metadata": {},
   "outputs": [],
   "source": [
    "import nest_asyncio\n",
    "nest_asyncio.apply()"
   ]
  },
  {
   "cell_type": "code",
   "execution_count": null,
   "metadata": {
    "scrolled": true
   },
   "outputs": [],
   "source": [
    "from CRC_01_supporting_codes import get_bond_market_data, get_bond_historical_data # To są dwie funkcje które zbudowałem na potrzebę tych zajęć \n",
    "\n",
    "df_nvda = get_bond_market_data('NVDA') # Tylko amerykanskie tickery\n",
    "df_nvda\n"
   ]
  },
  {
   "cell_type": "code",
   "execution_count": null,
   "metadata": {},
   "outputs": [],
   "source": [
    "df_history = get_bond_historical_data(247810200, duration='1 Y', what_to_show='ASK') #Wybierzcie Contract z tabelki u góry i wpiszcie dzięki czemu dostaneicie dane historyczne tej obligacji\n",
    "df_history \n"
   ]
  },
  {
   "cell_type": "markdown",
   "metadata": {},
   "source": [
    "# Opcje # Bez api nie zadziałają"
   ]
  },
  {
   "cell_type": "code",
   "execution_count": null,
   "metadata": {},
   "outputs": [],
   "source": [
    "import requests\n",
    "#Musisz pierw zdobyć klucz api możesz go zdobyć szybko poniżej:\n",
    "\n",
    "API = \"\"  #https://www.alphavantage.co/support/#api-key \n",
    "# https://www.alphavantage.co/documentation/\n",
    "\n",
    "\n",
    "ticker = \"NVDA\" # Polskie tickery nie działają\n",
    "\n",
    "# replace the \"demo\" apikey below with your own key from https://www.alphavantage.co/support/#api-key\n",
    "url = f'https://www.alphavantage.co/query?function=HISTORICAL_OPTIONS&symbol={ticker}&apikey={API}'\n",
    "r = requests.get(url)\n",
    "data = r.json()\n",
    "data  = pd.json_normalize(data['data'])\n",
    "data \n"
   ]
  },
  {
   "cell_type": "code",
   "execution_count": null,
   "metadata": {},
   "outputs": [],
   "source": [
    "import requests\n",
    "\n",
    "# Alpha vantage oferuje bardzo ciekawe informacje np możemy sprawdzić o której giełdy są otwarte \n",
    "url = 'https://www.alphavantage.co/query?function=MARKET_STATUS&apikey=demo'\n",
    "r = requests.get(url)\n",
    "data = r.json()\n",
    "\n",
    "data  = pd.json_normalize(data['markets'])\n",
    "data"
   ]
  },
  {
   "cell_type": "markdown",
   "metadata": {},
   "source": [
    "# Pozostałe dane"
   ]
  },
  {
   "cell_type": "code",
   "execution_count": null,
   "metadata": {},
   "outputs": [],
   "source": [
    "pd.read_html(\"https://www.biznesradar.pl/fundusze/krajowe-akcji\")[0] \n"
   ]
  },
  {
   "cell_type": "code",
   "execution_count": null,
   "metadata": {},
   "outputs": [],
   "source": [
    "pd.read_html(\"https://pl.tradingeconomics.com/country-list/gdp\")[0]"
   ]
  }
 ],
 "metadata": {
  "kernelspec": {
   "display_name": "Python [conda env:base] *",
   "language": "python",
   "name": "conda-base-py"
  },
  "language_info": {
   "codemirror_mode": {
    "name": "ipython",
    "version": 3
   },
   "file_extension": ".py",
   "mimetype": "text/x-python",
   "name": "python",
   "nbconvert_exporter": "python",
   "pygments_lexer": "ipython3",
   "version": "3.12.7"
  }
 },
 "nbformat": 4,
 "nbformat_minor": 4
}
